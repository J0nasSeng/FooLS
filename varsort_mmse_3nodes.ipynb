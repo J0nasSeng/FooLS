{
 "cells": [
  {
   "cell_type": "code",
   "execution_count": 1,
   "metadata": {},
   "outputs": [],
   "source": [
    "from sklearn.linear_model import LinearRegression, Lasso\n",
    "from sklearn.metrics import mean_squared_error\n",
    "import numpy as np\n",
    "import pandas as pd\n",
    "import matplotlib as mpl\n",
    "import matplotlib.pyplot as plt\n",
    "import matplotlib.patches as mp\n",
    "import seaborn as sns\n",
    "mpl.rcParams['font.family'] = 'sans-serif'\n",
    "plt.rcParams['font.size'] = 18\n",
    "plt.rcParams['axes.linewidth'] = 2"
   ]
  },
  {
   "cell_type": "markdown",
   "metadata": {},
   "source": [
    "#### We first define a Ground Truth Model\n",
    "A simple chain."
   ]
  },
  {
   "cell_type": "code",
   "execution_count": 2,
   "metadata": {
    "pycharm": {
     "name": "#%%\n"
    }
   },
   "outputs": [],
   "source": [
    "np.random.seed(0)\n",
    "\n",
    "a1 = 1\n",
    "a2 = 2\n",
    "\n",
    "N1 = np.random.normal(0, 1, 10000)\n",
    "N2 = np.random.normal(0, 1, 10000)\n",
    "N3 = np.random.normal(0, 1, 10000)\n",
    "\n",
    "X1 = N1\n",
    "X2 = a1*X1 + N2\n",
    "X3 = a2*X2 + N3\n",
    "\n",
    "X1 = X1.reshape(-1,1)\n",
    "X2 = X2.reshape(-1,1)\n",
    "X3 = X3.reshape(-1,1)\n",
    "\n",
    "v = np.hstack([X1,X2,X3])"
   ]
  },
  {
   "cell_type": "code",
   "execution_count": 3,
   "metadata": {
    "pycharm": {
     "name": "#%%\n"
    }
   },
   "outputs": [
    {
     "name": "stdout",
     "output_type": "stream",
     "text": [
      "X1.shape (10000, 1), X2.shape (10000, 1), X3.shape (10000, 1)\n",
      "Var(X1)  = 0.98 = V_1 = 0.98\n",
      "Var(X2) = 1.95 and V_2 = 0.99\n",
      "Var(X3) = 8.81 and V_3 = 0.99\n"
     ]
    }
   ],
   "source": [
    "print(f'X1.shape {X1.shape}, X2.shape {X2.shape}, X3.shape {X3.shape}')\n",
    "print(f'Var(X1)  = {X1.var():.2f} = V_1 = {N1.var():.2f}')\n",
    "print(f'Var(X2) = {X2.var():.2f} and V_2 = {N2.var():.2f}')\n",
    "print(f'Var(X3) = {X3.var():.2f} and V_3 = {N3.var():.2f}')"
   ]
  },
  {
   "cell_type": "markdown",
   "metadata": {},
   "source": [
    "#### We then fit a (series of) Linear Models for each of the 25 DAGs on 3 Nodes\n",
    "\n",
    "We start with 1-edge models like $X_1\\rightarrow X_2 \\quad X_3$.\n",
    "\n",
    "And then follow-up with 2-edge models like $X_1\\rightarrow X_2 \\leftarrow X_3$."
   ]
  },
  {
   "cell_type": "code",
   "execution_count": 4,
   "metadata": {},
   "outputs": [],
   "source": [
    "models = {\n",
    "    \"1\": [\n",
    "            [(1,2)], # each tuple an edge, last number is target (can be multiple initial nodes into target)\n",
    "            [(2,1)]\n",
    "         ],\n",
    "    \"2\": [\n",
    "            [(1,3,2)],\n",
    "            [(1,2),(2,3)]\n",
    "    ]\n",
    "}"
   ]
  },
  {
   "cell_type": "markdown",
   "metadata": {},
   "source": [
    "We first setup the automatic generation of a linear model"
   ]
  },
  {
   "cell_type": "code",
   "execution_count": 2,
   "metadata": {},
   "outputs": [],
   "source": [
    "def lin_model(m, v):\n",
    "    \"\"\"\n",
    "        m: Model description, i.e. list of tuples of form (f1, f2, ..., fn, target)\n",
    "        v: list of variables, each entry is nx1 array. Features + last entry target\n",
    "    \"\"\"\n",
    "    lrs = []\n",
    "    for e in m:\n",
    "        feat_idx = np.array(e)[:-1] - 1\n",
    "        features = v[:,feat_idx]\n",
    "        target_ind = e[-1] - 1\n",
    "        target = v[:,target_ind]\n",
    "        lr = LinearRegression(fit_intercept=False)\n",
    "        lr.fit(features, target)\n",
    "        pred = lr.predict(features)\n",
    "        lrs.append((lr, features, target_ind, target, pred))\n",
    "    return lrs"
   ]
  },
  {
   "cell_type": "markdown",
   "metadata": {},
   "source": [
    "We then setup the computation of the *model* MSE"
   ]
  },
  {
   "cell_type": "code",
   "execution_count": 3,
   "metadata": {},
   "outputs": [],
   "source": [
    "def mse_model(m, lrs, v):\n",
    "    \"\"\"\n",
    "        m: Model description, i.e. list of tuples (f1, f2, .., fn, target)\n",
    "        lrs: list of linear regression-objects. Returned by function above\n",
    "        v: Variables\n",
    "    \"\"\"\n",
    "    seen_target_inds = []\n",
    "    mse = 0\n",
    "    for e in lrs:\n",
    "        _, _, target_ind, target, pred = e\n",
    "        mse += mean_squared_error(target, pred)\n",
    "        seen_target_inds.append(target_ind)\n",
    "    unmodelled = list(range(0, v.shape[1]))\n",
    "    for ti in seen_target_inds:\n",
    "        if ti in unmodelled:\n",
    "            unmodelled.remove(ti)\n",
    "    if len(unmodelled) > 0:\n",
    "        v_unmodelled = v[:,unmodelled]\n",
    "        if len(v_unmodelled.shape) == 1:\n",
    "            v_unmodelled = v_unmodelled[:,np.newaxis]\n",
    "        for i in range(v_unmodelled.shape[1]):\n",
    "            mse += mean_squared_error(np.zeros_like(v_unmodelled[:,i]), v_unmodelled[:,i])\n",
    "    return mse"
   ]
  },
  {
   "cell_type": "markdown",
   "metadata": {},
   "source": [
    "We will sanity check using a simple $A\\rightarrow B$ model of 2 nodes only."
   ]
  },
  {
   "cell_type": "code",
   "execution_count": 7,
   "metadata": {},
   "outputs": [
    {
     "name": "stdout",
     "output_type": "stream",
     "text": [
      "Direct calc: MSE(M1)=1.96\t MSE(M2)=2.44\n",
      "Sanity check: MSE(M1) = 1.96 < 2.44 = MSE(M2)\n"
     ]
    }
   ],
   "source": [
    "#%debug\n",
    "m1 = models[\"1\"][0]\n",
    "lrs_m1 = lin_model(m1, v[:,:2])\n",
    "mse_m1 = mse_model(m1, lrs_m1, v[:,:2])\n",
    "m2 = models[\"1\"][1]\n",
    "lrs_m2 = lin_model(m2, v[:,:2])\n",
    "mse_m2 = mse_model(m2, lrs_m2, v[:,:2])\n",
    "\n",
    "print(f'Direct calc: MSE(M1)={mse_m1:.2f}\\t MSE(M2)={mse_m2:.2f}')\n",
    "\n",
    "print(f'Sanity check: MSE(M1) = {mean_squared_error(v[:,1], lrs_m1[0][-1]) + mean_squared_error(np.zeros_like(v[:,0]), v[:,0]):.2f}'\n",
    "      f' < {mean_squared_error(v[:,0], lrs_m2[0][-1]) + mean_squared_error(np.zeros_like(v[:,1]), v[:,1]):.2f} = MSE(M2)')"
   ]
  },
  {
   "cell_type": "markdown",
   "metadata": {},
   "source": [
    "Now a computation for the corresponding 3-node models $A\\rightarrow B \\quad C$ and $A\\leftarrow B \\quad C$."
   ]
  },
  {
   "cell_type": "code",
   "execution_count": 8,
   "metadata": {},
   "outputs": [
    {
     "name": "stdout",
     "output_type": "stream",
     "text": [
      "Direct calc: MSE(M1)=10.78\t MSE(M2)=11.25\n",
      "Sanity check: MSE(M1) = 10.78 < 11.25 = MSE(M2)\n"
     ]
    }
   ],
   "source": [
    "#%debug\n",
    "m1 = models[\"1\"][0]\n",
    "lrs_m1 = lin_model(m1, v)\n",
    "mse_m1 = mse_model(m1, lrs_m1, v)\n",
    "m2 = models[\"1\"][1]\n",
    "lrs_m2 = lin_model(m2, v)\n",
    "mse_m2 = mse_model(m2, lrs_m2, v)\n",
    "\n",
    "print(f'Direct calc: MSE(M1)={mse_m1:.2f}\\t MSE(M2)={mse_m2:.2f}')\n",
    "\n",
    "print(f'Sanity check: MSE(M1) = {mean_squared_error(v[:,1], lrs_m1[0][-1]) + mean_squared_error(np.zeros_like(v[:,0]), v[:,0]) + mean_squared_error(np.zeros_like(v[:,2]), v[:,2]):.2f}'\n",
    "      f' < {mean_squared_error(v[:,0], lrs_m2[0][-1]) + mean_squared_error(np.zeros_like(v[:,1]), v[:,1]) + mean_squared_error(np.zeros_like(v[:,2]), v[:,2]):.2f} = MSE(M2)')"
   ]
  },
  {
   "cell_type": "markdown",
   "metadata": {
    "pycharm": {
     "name": "#%%\n"
    }
   },
   "source": [
    "Now we will take all 25 DAGs and compute their MSE and then order them, to see\n",
    "whether the ground truth model $X_1\\rightarrow X_2\\rightarrow X_3$ will have lowest MSE."
   ]
  },
  {
   "cell_type": "code",
   "execution_count": 4,
   "metadata": {},
   "outputs": [
    {
     "name": "stdout",
     "output_type": "stream",
     "text": [
      "Total Num of DAGs 25\n"
     ]
    }
   ],
   "source": [
    "models = {\n",
    "    \"0\": [\n",
    "        []\n",
    "    ],\n",
    "    \"1\": [           # all graphs with 1 edge\n",
    "            [(1,2)], # each tuple an edge, last number is target (can be multiple initial nodes into target)\n",
    "            [(2,3)],\n",
    "            [(1,3)],\n",
    "            [(3,1)],\n",
    "            [(2,1)],\n",
    "            [(3,2)],\n",
    "         ],\n",
    "    \"2\": [           # all graphs with 2 edges\n",
    "            [(1,2),(2,3)],\n",
    "            [(2,1),(3,2)],\n",
    "            [(1,3,2)],\n",
    "            [(2,1),(2,3)],\n",
    "            [(1,3),(1,2)],\n",
    "            [(3,1),(1,2)],\n",
    "            [(1,2,3)],\n",
    "            [(3,1),(2,3)],\n",
    "            [(1,3),(2,1)],\n",
    "            [(3,2,1)],\n",
    "            [(1,3),(3,2)],\n",
    "            [(3,1),(3,2)],\n",
    "    ],\n",
    "    \"3\": [\n",
    "            [(1,2,3),(1,2)],\n",
    "            [(3,2,1),(3,2)],\n",
    "            [(1,3),(1,3,2)],\n",
    "            [(3,1),(1,3,2)],\n",
    "            [(1,2,3),(2,1)],\n",
    "            [(3,2,1),(2,3)],\n",
    "    ]\n",
    "    \n",
    "}\n",
    "print(f'Total Num of DAGs {sum([len(models[str(i)]) for i in range(3+1)])}')"
   ]
  },
  {
   "cell_type": "code",
   "execution_count": 64,
   "metadata": {},
   "outputs": [],
   "source": [
    "def get_chain():\n",
    "    np.random.seed(0)\n",
    "\n",
    "    a1 = 1\n",
    "    a2 = 2\n",
    "\n",
    "    N1 = np.random.normal(0, 1, 10000)\n",
    "    N2 = np.random.normal(0, 1, 10000)\n",
    "    N3 = np.random.normal(0, 1, 10000)\n",
    "\n",
    "    X1 = N1\n",
    "    X2 = a1*X1 + N2\n",
    "    X3 = a2*X2 + N3\n",
    "\n",
    "    X1 = X1.reshape(-1,1)\n",
    "    X2 = X2.reshape(-1,1)\n",
    "    X3 = X3.reshape(-1,1)\n",
    "\n",
    "    v = np.hstack([X1,X2,X3])\n",
    "    return v\n",
    "\n",
    "def get_fork():\n",
    "    np.random.seed(0)\n",
    "\n",
    "    a1 = 1\n",
    "    a2 = 2\n",
    "\n",
    "    N1 = np.random.normal(0, 1, 10000)\n",
    "    N2 = np.random.normal(0, 1, 10000)\n",
    "    N3 = np.random.normal(0, 1, 10000)\n",
    "\n",
    "    X1 = N1\n",
    "    X2 = a1*X1 + N2\n",
    "    X3 = a2*X1 + N3\n",
    "\n",
    "    X1 = X1.reshape(-1,1)\n",
    "    X2 = X2.reshape(-1,1)\n",
    "    X3 = X3.reshape(-1,1)\n",
    "\n",
    "    v = np.hstack([X1,X2,X3])\n",
    "    return v\n",
    "\n",
    "def get_collider():\n",
    "    np.random.seed(0)\n",
    "\n",
    "    a1 = 1\n",
    "    a2 = 2\n",
    "\n",
    "    N1 = np.random.normal(0, 1, 10000)\n",
    "    N2 = np.random.normal(0, 1, 10000)\n",
    "    N3 = np.random.normal(0, 1, 10000)\n",
    "\n",
    "    X1 = N1\n",
    "    X2 = N2\n",
    "    X3 = a1*X1 + a2*X2 + N3\n",
    "\n",
    "    X1 = X1.reshape(-1,1)\n",
    "    X2 = X2.reshape(-1,1)\n",
    "    X3 = X3.reshape(-1,1)\n",
    "\n",
    "    v = np.hstack([X1,X2,X3])\n",
    "    return v\n",
    "\n",
    "def get_reverse_chain():\n",
    "    np.random.seed(0)\n",
    "\n",
    "    a1 = 1\n",
    "    a2 = 2\n",
    "\n",
    "    N1 = np.random.normal(0, 1, 10000)\n",
    "    N2 = np.random.normal(0, 1, 10000)\n",
    "    N3 = np.random.normal(0, 1, 10000)\n",
    "\n",
    "    X3 = N1\n",
    "    X2 = a1*X3 + N2\n",
    "    X1 = a2*X2 + N3\n",
    "\n",
    "    X1 = X1.reshape(-1,1)\n",
    "    X2 = X2.reshape(-1,1)\n",
    "    X3 = X3.reshape(-1,1)\n",
    "\n",
    "    v = np.hstack([X1,X2,X3])\n",
    "    return v"
   ]
  },
  {
   "cell_type": "code",
   "execution_count": 65,
   "metadata": {},
   "outputs": [
    {
     "name": "stdout",
     "output_type": "stream",
     "text": [
      "                  Model  Number of Edges  MSE(Model)\n",
      "0                    []                0   11.736114\n",
      "1              [(1, 2)]                1   10.776068\n",
      "2              [(2, 3)]                1    3.916369\n",
      "3              [(1, 3)]                1    7.887083\n",
      "4              [(3, 1)]                1   11.310083\n",
      "..                  ...              ...         ...\n",
      "70  [(3, 2, 1), (3, 2)]                3    2.956314\n",
      "71  [(1, 3), (1, 3, 2)]                3    9.561351\n",
      "72  [(3, 1), (1, 3, 2)]                3    6.138351\n",
      "73  [(1, 2, 3), (2, 1)]                3    3.435120\n",
      "74  [(3, 2, 1), (2, 3)]                3    3.435116\n",
      "\n",
      "[75 rows x 3 columns]\n"
     ]
    }
   ],
   "source": [
    "#%debug\n",
    "gen_models = [get_chain(), get_fork(), get_reverse_chain()]\n",
    "models_scored = []\n",
    "for v in gen_models:\n",
    "    for i in range(3+1):\n",
    "        for m in models[str(i)]:\n",
    "            lrs_m = lin_model(m, v)\n",
    "            mse_m = mse_model(m, lrs_m, v)\n",
    "            #print(f'Model ({i} edges): {str(m)}\\t\\t MSE(M)={mse_m:.2f}')\n",
    "            models_scored.append((m, i, mse_m))\n",
    "df = pd.DataFrame(models_scored, columns=[\"Model\", \"Number of Edges\", \"MSE(Model)\"])\n",
    "print(df)"
   ]
  },
  {
   "cell_type": "markdown",
   "metadata": {},
   "source": [
    "Sorting using MSE scores now."
   ]
  },
  {
   "cell_type": "code",
   "execution_count": 66,
   "metadata": {
    "scrolled": false
   },
   "outputs": [
    {
     "data": {
      "text/html": [
       "<div>\n",
       "<style scoped>\n",
       "    .dataframe tbody tr th:only-of-type {\n",
       "        vertical-align: middle;\n",
       "    }\n",
       "\n",
       "    .dataframe tbody tr th {\n",
       "        vertical-align: top;\n",
       "    }\n",
       "\n",
       "    .dataframe thead th {\n",
       "        text-align: right;\n",
       "    }\n",
       "</style>\n",
       "<table border=\"1\" class=\"dataframe\">\n",
       "  <thead>\n",
       "    <tr style=\"text-align: right;\">\n",
       "      <th></th>\n",
       "      <th>Model</th>\n",
       "      <th>Number of Edges</th>\n",
       "      <th>MSE(Model)</th>\n",
       "    </tr>\n",
       "  </thead>\n",
       "  <tbody>\n",
       "    <tr>\n",
       "      <th>70</th>\n",
       "      <td>[(3, 2, 1), (3, 2)]</td>\n",
       "      <td>3</td>\n",
       "      <td>2.956314</td>\n",
       "    </tr>\n",
       "    <tr>\n",
       "      <th>19</th>\n",
       "      <td>[(1, 2, 3), (1, 2)]</td>\n",
       "      <td>3</td>\n",
       "      <td>2.956314</td>\n",
       "    </tr>\n",
       "    <tr>\n",
       "      <th>44</th>\n",
       "      <td>[(1, 2, 3), (1, 2)]</td>\n",
       "      <td>3</td>\n",
       "      <td>2.956314</td>\n",
       "    </tr>\n",
       "    <tr>\n",
       "      <th>46</th>\n",
       "      <td>[(1, 3), (1, 3, 2)]</td>\n",
       "      <td>3</td>\n",
       "      <td>2.956315</td>\n",
       "    </tr>\n",
       "    <tr>\n",
       "      <th>58</th>\n",
       "      <td>[(2, 1), (3, 2)]</td>\n",
       "      <td>2</td>\n",
       "      <td>2.956323</td>\n",
       "    </tr>\n",
       "    <tr>\n",
       "      <th>...</th>\n",
       "      <td>...</td>\n",
       "      <td>...</td>\n",
       "      <td>...</td>\n",
       "    </tr>\n",
       "    <tr>\n",
       "      <th>52</th>\n",
       "      <td>[(2, 3)]</td>\n",
       "      <td>1</td>\n",
       "      <td>11.254869</td>\n",
       "    </tr>\n",
       "    <tr>\n",
       "      <th>53</th>\n",
       "      <td>[(1, 3)]</td>\n",
       "      <td>1</td>\n",
       "      <td>11.310083</td>\n",
       "    </tr>\n",
       "    <tr>\n",
       "      <th>4</th>\n",
       "      <td>[(3, 1)]</td>\n",
       "      <td>1</td>\n",
       "      <td>11.310083</td>\n",
       "    </tr>\n",
       "    <tr>\n",
       "      <th>0</th>\n",
       "      <td>[]</td>\n",
       "      <td>0</td>\n",
       "      <td>11.736114</td>\n",
       "    </tr>\n",
       "    <tr>\n",
       "      <th>50</th>\n",
       "      <td>[]</td>\n",
       "      <td>0</td>\n",
       "      <td>11.736114</td>\n",
       "    </tr>\n",
       "  </tbody>\n",
       "</table>\n",
       "<p>75 rows × 3 columns</p>\n",
       "</div>"
      ],
      "text/plain": [
       "                  Model  Number of Edges  MSE(Model)\n",
       "70  [(3, 2, 1), (3, 2)]                3    2.956314\n",
       "19  [(1, 2, 3), (1, 2)]                3    2.956314\n",
       "44  [(1, 2, 3), (1, 2)]                3    2.956314\n",
       "46  [(1, 3), (1, 3, 2)]                3    2.956315\n",
       "58     [(2, 1), (3, 2)]                2    2.956323\n",
       "..                  ...              ...         ...\n",
       "52             [(2, 3)]                1   11.254869\n",
       "53             [(1, 3)]                1   11.310083\n",
       "4              [(3, 1)]                1   11.310083\n",
       "0                    []                0   11.736114\n",
       "50                   []                0   11.736114\n",
       "\n",
       "[75 rows x 3 columns]"
      ]
     },
     "execution_count": 66,
     "metadata": {},
     "output_type": "execute_result"
    }
   ],
   "source": [
    "df.sort_values('MSE(Model)')"
   ]
  },
  {
   "cell_type": "markdown",
   "metadata": {},
   "source": [
    "Let's define varsortability (the formula from Reisach et al.) first"
   ]
  },
  {
   "cell_type": "code",
   "execution_count": 67,
   "metadata": {},
   "outputs": [
    {
     "name": "stdout",
     "output_type": "stream",
     "text": [
      "model: [(1, 2)]\n",
      " adj:\n",
      "[[0. 1. 0.]\n",
      " [0. 0. 0.]\n",
      " [0. 0. 0.]]\n",
      "model: [(1, 2), (2, 3)]\n",
      " adj:\n",
      "[[0. 1. 0.]\n",
      " [0. 0. 1.]\n",
      " [0. 0. 0.]]\n"
     ]
    }
   ],
   "source": [
    "def model_to_adj(m):\n",
    "    adj = np.zeros((3,3))\n",
    "    for e in m:\n",
    "        for k in e[:-1]:\n",
    "            adj[k-1,e[-1]-1] = 1\n",
    "    return adj\n",
    "\n",
    "print(f'model: {models[\"1\"][0]}\\n adj:\\n{model_to_adj(models[\"1\"][0])}')\n",
    "print(f'model: {models[\"2\"][0]}\\n adj:\\n{model_to_adj(models[\"2\"][0])}')"
   ]
  },
  {
   "cell_type": "code",
   "execution_count": 68,
   "metadata": {},
   "outputs": [
    {
     "name": "stdout",
     "output_type": "stream",
     "text": [
      "[array([0, 1]), array([1, 2])]\n"
     ]
    }
   ],
   "source": [
    "adj = model_to_adj(models[\"2\"][0])\n",
    "\n",
    "def active_edges(adj):\n",
    "    l = []\n",
    "    for i, k in enumerate(adj.flatten()):\n",
    "        if k:\n",
    "            l.append(np.hstack(np.unravel_index([i], adj.shape)))\n",
    "    return l\n",
    "\n",
    "print(active_edges(adj))"
   ]
  },
  {
   "cell_type": "code",
   "execution_count": 69,
   "metadata": {},
   "outputs": [],
   "source": [
    "def varsort(adj, data):\n",
    "    if np.allclose(adj, np.zeros(adj.shape)):\n",
    "        return 0\n",
    "    sum_num = 0\n",
    "    sum_den = 0\n",
    "    for k in range(1,len(adj)):\n",
    "        for e in active_edges(np.linalg.matrix_power(adj,k)):\n",
    "            var_i = np.var(data[:,e[0]])\n",
    "            var_j = np.var(data[:,e[1]])\n",
    "            if var_i < var_j:\n",
    "                sum_num += 1\n",
    "            elif var_i > var_j:\n",
    "                sum_num += 0\n",
    "            else:\n",
    "                sum_num += .5\n",
    "            sum_den += 1\n",
    "    return sum_num / sum_den"
   ]
  },
  {
   "cell_type": "markdown",
   "metadata": {},
   "source": [
    "As expected, the linear Gauss chain reveals a perfect varsortability score since variance increases along the chain"
   ]
  },
  {
   "cell_type": "code",
   "execution_count": 15,
   "metadata": {},
   "outputs": [
    {
     "name": "stdout",
     "output_type": "stream",
     "text": [
      "1.0\n"
     ]
    }
   ],
   "source": [
    "adj = model_to_adj(models[\"2\"][0]) # chain, true graph\n",
    "vs = varsort(adj, v)\n",
    "print(vs)"
   ]
  },
  {
   "cell_type": "markdown",
   "metadata": {},
   "source": [
    "Considering the actual variance ordering for the 25 DAGs, we have"
   ]
  },
  {
   "cell_type": "code",
   "execution_count": 70,
   "metadata": {},
   "outputs": [
    {
     "data": {
      "text/html": [
       "<div>\n",
       "<style scoped>\n",
       "    .dataframe tbody tr th:only-of-type {\n",
       "        vertical-align: middle;\n",
       "    }\n",
       "\n",
       "    .dataframe tbody tr th {\n",
       "        vertical-align: top;\n",
       "    }\n",
       "\n",
       "    .dataframe thead th {\n",
       "        text-align: right;\n",
       "    }\n",
       "</style>\n",
       "<table border=\"1\" class=\"dataframe\">\n",
       "  <thead>\n",
       "    <tr style=\"text-align: right;\">\n",
       "      <th></th>\n",
       "      <th>Model</th>\n",
       "      <th>Number of Edges</th>\n",
       "      <th>MSE(Model)</th>\n",
       "      <th>Var-Sort</th>\n",
       "      <th>color</th>\n",
       "    </tr>\n",
       "  </thead>\n",
       "  <tbody>\n",
       "    <tr>\n",
       "      <th>0</th>\n",
       "      <td>[]</td>\n",
       "      <td>0</td>\n",
       "      <td>11.736114</td>\n",
       "      <td>0.00</td>\n",
       "      <td>orange</td>\n",
       "    </tr>\n",
       "    <tr>\n",
       "      <th>1</th>\n",
       "      <td>[(1, 2)]</td>\n",
       "      <td>1</td>\n",
       "      <td>10.776068</td>\n",
       "      <td>1.00</td>\n",
       "      <td>forestgreen</td>\n",
       "    </tr>\n",
       "    <tr>\n",
       "      <th>2</th>\n",
       "      <td>[(2, 3)]</td>\n",
       "      <td>1</td>\n",
       "      <td>3.916369</td>\n",
       "      <td>1.00</td>\n",
       "      <td>forestgreen</td>\n",
       "    </tr>\n",
       "    <tr>\n",
       "      <th>3</th>\n",
       "      <td>[(1, 3)]</td>\n",
       "      <td>1</td>\n",
       "      <td>7.887083</td>\n",
       "      <td>1.00</td>\n",
       "      <td>forestgreen</td>\n",
       "    </tr>\n",
       "    <tr>\n",
       "      <th>4</th>\n",
       "      <td>[(3, 1)]</td>\n",
       "      <td>1</td>\n",
       "      <td>11.310083</td>\n",
       "      <td>0.00</td>\n",
       "      <td>forestgreen</td>\n",
       "    </tr>\n",
       "    <tr>\n",
       "      <th>...</th>\n",
       "      <td>...</td>\n",
       "      <td>...</td>\n",
       "      <td>...</td>\n",
       "      <td>...</td>\n",
       "      <td>...</td>\n",
       "    </tr>\n",
       "    <tr>\n",
       "      <th>70</th>\n",
       "      <td>[(3, 2, 1), (3, 2)]</td>\n",
       "      <td>3</td>\n",
       "      <td>2.956314</td>\n",
       "      <td>1.00</td>\n",
       "      <td>purple</td>\n",
       "    </tr>\n",
       "    <tr>\n",
       "      <th>71</th>\n",
       "      <td>[(1, 3), (1, 3, 2)]</td>\n",
       "      <td>3</td>\n",
       "      <td>9.561351</td>\n",
       "      <td>0.25</td>\n",
       "      <td>purple</td>\n",
       "    </tr>\n",
       "    <tr>\n",
       "      <th>72</th>\n",
       "      <td>[(3, 1), (1, 3, 2)]</td>\n",
       "      <td>3</td>\n",
       "      <td>6.138351</td>\n",
       "      <td>0.75</td>\n",
       "      <td>purple</td>\n",
       "    </tr>\n",
       "    <tr>\n",
       "      <th>73</th>\n",
       "      <td>[(1, 2, 3), (2, 1)]</td>\n",
       "      <td>3</td>\n",
       "      <td>3.435120</td>\n",
       "      <td>0.25</td>\n",
       "      <td>purple</td>\n",
       "    </tr>\n",
       "    <tr>\n",
       "      <th>74</th>\n",
       "      <td>[(3, 2, 1), (2, 3)]</td>\n",
       "      <td>3</td>\n",
       "      <td>3.435116</td>\n",
       "      <td>0.75</td>\n",
       "      <td>purple</td>\n",
       "    </tr>\n",
       "  </tbody>\n",
       "</table>\n",
       "<p>75 rows × 5 columns</p>\n",
       "</div>"
      ],
      "text/plain": [
       "                  Model  Number of Edges  MSE(Model)  Var-Sort         color\n",
       "0                    []                0   11.736114      0.00        orange\n",
       "1              [(1, 2)]                1   10.776068      1.00   forestgreen\n",
       "2              [(2, 3)]                1    3.916369      1.00   forestgreen\n",
       "3              [(1, 3)]                1    7.887083      1.00   forestgreen\n",
       "4              [(3, 1)]                1   11.310083      0.00   forestgreen\n",
       "..                  ...              ...         ...       ...           ...\n",
       "70  [(3, 2, 1), (3, 2)]                3    2.956314      1.00        purple\n",
       "71  [(1, 3), (1, 3, 2)]                3    9.561351      0.25        purple\n",
       "72  [(3, 1), (1, 3, 2)]                3    6.138351      0.75        purple\n",
       "73  [(1, 2, 3), (2, 1)]                3    3.435120      0.25        purple\n",
       "74  [(3, 2, 1), (2, 3)]                3    3.435116      0.75        purple\n",
       "\n",
       "[75 rows x 5 columns]"
      ]
     },
     "execution_count": 70,
     "metadata": {},
     "output_type": "execute_result"
    }
   ],
   "source": [
    "vs = []\n",
    "for v in gen_models:\n",
    "    for i in range(3+1):\n",
    "        for m in models[str(i)]:\n",
    "            vs.append(varsort(model_to_adj(m), v))\n",
    "df['Var-Sort'] = vs\n",
    "df.sort_values(['Var-Sort','MSE(Model)'], ascending=[False,True]).round(2)\n",
    "df['color'] = 'b'\n",
    "df.loc[df['Number of Edges'] == 0, 'color'] = ' orange'\n",
    "df.loc[df['Number of Edges'] == 1, 'color'] = ' forestgreen'\n",
    "df.loc[df['Number of Edges'] == 2, 'color'] = ' royalblue'\n",
    "df.loc[df['Number of Edges'] == 3, 'color'] = ' purple'\n",
    "df"
   ]
  },
  {
   "cell_type": "code",
   "execution_count": 62,
   "metadata": {},
   "outputs": [
    {
     "data": {
      "text/html": [
       "<div>\n",
       "<style scoped>\n",
       "    .dataframe tbody tr th:only-of-type {\n",
       "        vertical-align: middle;\n",
       "    }\n",
       "\n",
       "    .dataframe tbody tr th {\n",
       "        vertical-align: top;\n",
       "    }\n",
       "\n",
       "    .dataframe thead th {\n",
       "        text-align: right;\n",
       "    }\n",
       "</style>\n",
       "<table border=\"1\" class=\"dataframe\">\n",
       "  <thead>\n",
       "    <tr style=\"text-align: right;\">\n",
       "      <th></th>\n",
       "      <th>Model</th>\n",
       "      <th>Number of Edges</th>\n",
       "      <th>MSE(Model)</th>\n",
       "      <th>Var-Sort</th>\n",
       "      <th>color</th>\n",
       "    </tr>\n",
       "  </thead>\n",
       "  <tbody>\n",
       "    <tr>\n",
       "      <th>1</th>\n",
       "      <td>[(1, 2)]</td>\n",
       "      <td>1</td>\n",
       "      <td>10.776068</td>\n",
       "      <td>1.0</td>\n",
       "      <td>forestgreen</td>\n",
       "    </tr>\n",
       "    <tr>\n",
       "      <th>2</th>\n",
       "      <td>[(2, 3)]</td>\n",
       "      <td>1</td>\n",
       "      <td>3.916369</td>\n",
       "      <td>1.0</td>\n",
       "      <td>forestgreen</td>\n",
       "    </tr>\n",
       "    <tr>\n",
       "      <th>3</th>\n",
       "      <td>[(1, 3)]</td>\n",
       "      <td>1</td>\n",
       "      <td>7.887083</td>\n",
       "      <td>1.0</td>\n",
       "      <td>forestgreen</td>\n",
       "    </tr>\n",
       "    <tr>\n",
       "      <th>4</th>\n",
       "      <td>[(3, 1)]</td>\n",
       "      <td>1</td>\n",
       "      <td>11.310083</td>\n",
       "      <td>0.0</td>\n",
       "      <td>forestgreen</td>\n",
       "    </tr>\n",
       "    <tr>\n",
       "      <th>5</th>\n",
       "      <td>[(2, 1)]</td>\n",
       "      <td>1</td>\n",
       "      <td>11.254869</td>\n",
       "      <td>0.0</td>\n",
       "      <td>forestgreen</td>\n",
       "    </tr>\n",
       "    <tr>\n",
       "      <th>6</th>\n",
       "      <td>[(3, 2)]</td>\n",
       "      <td>1</td>\n",
       "      <td>10.009446</td>\n",
       "      <td>0.0</td>\n",
       "      <td>forestgreen</td>\n",
       "    </tr>\n",
       "    <tr>\n",
       "      <th>26</th>\n",
       "      <td>[(1, 2)]</td>\n",
       "      <td>1</td>\n",
       "      <td>6.867706</td>\n",
       "      <td>1.0</td>\n",
       "      <td>forestgreen</td>\n",
       "    </tr>\n",
       "    <tr>\n",
       "      <th>27</th>\n",
       "      <td>[(2, 3)]</td>\n",
       "      <td>1</td>\n",
       "      <td>5.885500</td>\n",
       "      <td>1.0</td>\n",
       "      <td>forestgreen</td>\n",
       "    </tr>\n",
       "    <tr>\n",
       "      <th>28</th>\n",
       "      <td>[(1, 3)]</td>\n",
       "      <td>1</td>\n",
       "      <td>3.916403</td>\n",
       "      <td>1.0</td>\n",
       "      <td>forestgreen</td>\n",
       "    </tr>\n",
       "    <tr>\n",
       "      <th>29</th>\n",
       "      <td>[(3, 1)]</td>\n",
       "      <td>1</td>\n",
       "      <td>7.049922</td>\n",
       "      <td>0.0</td>\n",
       "      <td>forestgreen</td>\n",
       "    </tr>\n",
       "    <tr>\n",
       "      <th>30</th>\n",
       "      <td>[(2, 1)]</td>\n",
       "      <td>1</td>\n",
       "      <td>7.346507</td>\n",
       "      <td>0.0</td>\n",
       "      <td>forestgreen</td>\n",
       "    </tr>\n",
       "    <tr>\n",
       "      <th>31</th>\n",
       "      <td>[(3, 2)]</td>\n",
       "      <td>1</td>\n",
       "      <td>7.057221</td>\n",
       "      <td>0.0</td>\n",
       "      <td>forestgreen</td>\n",
       "    </tr>\n",
       "    <tr>\n",
       "      <th>51</th>\n",
       "      <td>[(1, 2)]</td>\n",
       "      <td>1</td>\n",
       "      <td>10.009446</td>\n",
       "      <td>0.0</td>\n",
       "      <td>forestgreen</td>\n",
       "    </tr>\n",
       "    <tr>\n",
       "      <th>52</th>\n",
       "      <td>[(2, 3)]</td>\n",
       "      <td>1</td>\n",
       "      <td>11.254869</td>\n",
       "      <td>0.0</td>\n",
       "      <td>forestgreen</td>\n",
       "    </tr>\n",
       "    <tr>\n",
       "      <th>53</th>\n",
       "      <td>[(1, 3)]</td>\n",
       "      <td>1</td>\n",
       "      <td>11.310083</td>\n",
       "      <td>0.0</td>\n",
       "      <td>forestgreen</td>\n",
       "    </tr>\n",
       "    <tr>\n",
       "      <th>54</th>\n",
       "      <td>[(3, 1)]</td>\n",
       "      <td>1</td>\n",
       "      <td>7.887083</td>\n",
       "      <td>1.0</td>\n",
       "      <td>forestgreen</td>\n",
       "    </tr>\n",
       "    <tr>\n",
       "      <th>55</th>\n",
       "      <td>[(2, 1)]</td>\n",
       "      <td>1</td>\n",
       "      <td>3.916369</td>\n",
       "      <td>1.0</td>\n",
       "      <td>forestgreen</td>\n",
       "    </tr>\n",
       "    <tr>\n",
       "      <th>56</th>\n",
       "      <td>[(3, 2)]</td>\n",
       "      <td>1</td>\n",
       "      <td>10.776068</td>\n",
       "      <td>1.0</td>\n",
       "      <td>forestgreen</td>\n",
       "    </tr>\n",
       "  </tbody>\n",
       "</table>\n",
       "</div>"
      ],
      "text/plain": [
       "       Model  Number of Edges  MSE(Model)  Var-Sort         color\n",
       "1   [(1, 2)]                1   10.776068       1.0   forestgreen\n",
       "2   [(2, 3)]                1    3.916369       1.0   forestgreen\n",
       "3   [(1, 3)]                1    7.887083       1.0   forestgreen\n",
       "4   [(3, 1)]                1   11.310083       0.0   forestgreen\n",
       "5   [(2, 1)]                1   11.254869       0.0   forestgreen\n",
       "6   [(3, 2)]                1   10.009446       0.0   forestgreen\n",
       "26  [(1, 2)]                1    6.867706       1.0   forestgreen\n",
       "27  [(2, 3)]                1    5.885500       1.0   forestgreen\n",
       "28  [(1, 3)]                1    3.916403       1.0   forestgreen\n",
       "29  [(3, 1)]                1    7.049922       0.0   forestgreen\n",
       "30  [(2, 1)]                1    7.346507       0.0   forestgreen\n",
       "31  [(3, 2)]                1    7.057221       0.0   forestgreen\n",
       "51  [(1, 2)]                1   10.009446       0.0   forestgreen\n",
       "52  [(2, 3)]                1   11.254869       0.0   forestgreen\n",
       "53  [(1, 3)]                1   11.310083       0.0   forestgreen\n",
       "54  [(3, 1)]                1    7.887083       1.0   forestgreen\n",
       "55  [(2, 1)]                1    3.916369       1.0   forestgreen\n",
       "56  [(3, 2)]                1   10.776068       1.0   forestgreen"
      ]
     },
     "execution_count": 62,
     "metadata": {},
     "output_type": "execute_result"
    }
   ],
   "source": [
    "df = df[df['Number of Edges'] == 1]\n",
    "df"
   ]
  },
  {
   "cell_type": "code",
   "execution_count": 85,
   "metadata": {},
   "outputs": [
    {
     "name": "stdout",
     "output_type": "stream",
     "text": [
      "18\n",
      "36\n",
      "18\n"
     ]
    },
    {
     "name": "stderr",
     "output_type": "stream",
     "text": [
      "/home/jonas/anaconda3/lib/python3.9/site-packages/seaborn/_decorators.py:36: FutureWarning: Pass the following variables as keyword args: x, y. From version 0.12, the only valid positional argument will be `data`, and passing other arguments without an explicit keyword will result in an error or misinterpretation.\n",
      "  warnings.warn(\n",
      "/home/jonas/anaconda3/lib/python3.9/site-packages/seaborn/_decorators.py:36: FutureWarning: Pass the following variables as keyword args: x, y. From version 0.12, the only valid positional argument will be `data`, and passing other arguments without an explicit keyword will result in an error or misinterpretation.\n",
      "  warnings.warn(\n",
      "/home/jonas/anaconda3/lib/python3.9/site-packages/seaborn/_decorators.py:36: FutureWarning: Pass the following variables as keyword args: x, y. From version 0.12, the only valid positional argument will be `data`, and passing other arguments without an explicit keyword will result in an error or misinterpretation.\n",
      "  warnings.warn(\n"
     ]
    },
    {
     "data": {
      "image/png": "[encoded data removed]",
      "text/plain": [
       "<Figure size 1440x648 with 3 Axes>"
      ]
     },
     "metadata": {
      "needs_background": "light"
     },
     "output_type": "display_data"
    }
   ],
   "source": [
    "fig, axs = plt.subplots(1, 3, figsize=(20, 9), sharey=True)\n",
    "#colors = ['orange', 'forestgreen', 'forestgreen', 'forestgreen', 'forestgreen', 'forestgreen', 'forestgreen', 'royalblue', 'royalblue', 'royalblue', 'royalblue', 'royalblue', 'royalblue', 'royalblue', 'royalblue', 'royalblue', 'royalblue', 'royalblue', 'royalblue', 'purple', 'purple', 'purple', 'purple', 'purple', 'purple']\n",
    "colors = [c.strip() for c in df['color']]\n",
    "for i in range(1, 4):\n",
    "    ax = axs[i - 1]\n",
    "    data = df[df['Number of Edges'] == i]\n",
    "    print(len(data))\n",
    "    ax.tick_params(which='major', size=10, width=2, direction='in', right='on', top='on')\n",
    "    ax.tick_params(which='minor', size=7, width=2, direction='in', right='on', top='on')\n",
    "    ax.scatter(list(data['Var-Sort']), list(data['MSE(Model)']), s=100)\n",
    "    sns.regplot(data['Var-Sort'], data['MSE(Model)'], scatter_kws={'zorder': -1}, ax=ax)\n",
    "    ax.set_xlabel('Varsortability')\n",
    "    ax.set_ylabel('Model-MSE')\n",
    "    ax.set_title(f'Number of edges: {i}')\n",
    "    #patches = [mp.Patch(color='orange', label='0-edge Graph'), mp.Patch(color='forestgreen', label='1-edge Graph'), mp.Patch(color='royalblue', label='2-edge Graph'), mp.Patch(color='purple', label='3-edge Graph')]\n",
    "    #plt.legend(handles=patches, loc='lower left')\n",
    "plt.suptitle('Correlation between varsortability and Model-MSE')\n",
    "plt.savefig('varsortability_mse_corr.svg')"
   ]
  },
  {
   "cell_type": "code",
   "execution_count": 96,
   "metadata": {},
   "outputs": [
    {
     "name": "stderr",
     "output_type": "stream",
     "text": [
      "/home/jonas/anaconda3/lib/python3.9/site-packages/pandas/core/indexing.py:1773: SettingWithCopyWarning: \n",
      "A value is trying to be set on a copy of a slice from a DataFrame.\n",
      "Try using .loc[row_indexer,col_indexer] = value instead\n",
      "\n",
      "See the caveats in the documentation: https://pandas.pydata.org/pandas-docs/stable/user_guide/indexing.html#returning-a-view-versus-a-copy\n",
      "  self._setitem_single_column(ilocs[0], value, pi)\n",
      "/home/jonas/anaconda3/lib/python3.9/site-packages/pandas/core/indexing.py:1773: SettingWithCopyWarning: \n",
      "A value is trying to be set on a copy of a slice from a DataFrame.\n",
      "Try using .loc[row_indexer,col_indexer] = value instead\n",
      "\n",
      "See the caveats in the documentation: https://pandas.pydata.org/pandas-docs/stable/user_guide/indexing.html#returning-a-view-versus-a-copy\n",
      "  self._setitem_single_column(ilocs[0], value, pi)\n",
      "/home/jonas/anaconda3/lib/python3.9/site-packages/pandas/core/indexing.py:1773: SettingWithCopyWarning: \n",
      "A value is trying to be set on a copy of a slice from a DataFrame.\n",
      "Try using .loc[row_indexer,col_indexer] = value instead\n",
      "\n",
      "See the caveats in the documentation: https://pandas.pydata.org/pandas-docs/stable/user_guide/indexing.html#returning-a-view-versus-a-copy\n",
      "  self._setitem_single_column(ilocs[0], value, pi)\n"
     ]
    }
   ],
   "source": [
    "from sklearn.preprocessing import MinMaxScaler\n",
    "data = df[df['Number of Edges'] > 0]\n",
    "sc = MinMaxScaler()\n",
    "x = data[data['Number of Edges'] == 1]['MSE(Model)'].to_numpy().reshape(-1, 1)\n",
    "sc.fit(x)\n",
    "for i in range(1, 4):\n",
    "    x = df[df['Number of Edges'] == i]['MSE(Model)'].to_numpy().reshape(-1, 1)\n",
    "    data.loc[df['Number of Edges'] == i, 'MSE(Model)'] = sc.transform(x).reshape(1, -1)[0]"
   ]
  },
  {
   "cell_type": "code",
   "execution_count": 98,
   "metadata": {},
   "outputs": [
    {
     "name": "stderr",
     "output_type": "stream",
     "text": [
      "/home/jonas/anaconda3/lib/python3.9/site-packages/seaborn/_decorators.py:36: FutureWarning: Pass the following variables as keyword args: x, y. From version 0.12, the only valid positional argument will be `data`, and passing other arguments without an explicit keyword will result in an error or misinterpretation.\n",
      "  warnings.warn(\n"
     ]
    },
    {
     "data": {
      "image/png": "[encoded data removed]",
      "text/plain": [
       "<Figure size 1440x648 with 1 Axes>"
      ]
     },
     "metadata": {
      "needs_background": "light"
     },
     "output_type": "display_data"
    }
   ],
   "source": [
    "fig, ax = plt.subplots(1, 1, figsize=(20, 9), sharey=True)\n",
    "#colors = ['orange', 'forestgreen', 'forestgreen', 'forestgreen', 'forestgreen', 'forestgreen', 'forestgreen', 'royalblue', 'royalblue', 'royalblue', 'royalblue', 'royalblue', 'royalblue', 'royalblue', 'royalblue', 'royalblue', 'royalblue', 'royalblue', 'royalblue', 'purple', 'purple', 'purple', 'purple', 'purple', 'purple']\n",
    "colors = [c.strip() for c in df['color']]\n",
    "ax.tick_params(which='major', size=10, width=2, direction='in', right='on', top='on')\n",
    "ax.tick_params(which='minor', size=7, width=2, direction='in', right='on', top='on')\n",
    "ax.scatter(list(data['Var-Sort']), list(data['MSE(Model)']), s=100)\n",
    "sns.regplot(data['Var-Sort'], data['MSE(Model)'], scatter_kws={'zorder': -1}, ax=ax)\n",
    "ax.set_xlabel('Varsortability')\n",
    "ax.set_ylabel('Model-MSE')\n",
    "#patches = [mp.Patch(color='orange', label='0-edge Graph'), mp.Patch(color='forestgreen', label='1-edge Graph'), mp.Patch(color='royalblue', label='2-edge Graph'), mp.Patch(color='purple', label='3-edge Graph')]\n",
    "#plt.legend(handles=patches, loc='lower left')\n",
    "plt.title('Correlation between varsortability and Model-MSE')\n",
    "plt.savefig('varsortability_mse_corr.svg')"
   ]
  },
  {
   "cell_type": "markdown",
   "metadata": {},
   "source": [
    "Since NT optimizes for DAGs, one of the 25 graphs shown in this 3 node case is certainly the solution (when converged), furthermore, NT is allegedly only optimizing Model MSE (variances) which means it will be one of the top graphs, *furthermore, a perfect varsortability suggests that NT can simply sort the variances for easier MSE computation* so it will be one of the top graphs shown there - since they are all pretty much same MSE wise, it would feel like it always chooses one of those. (Furthermore, NT regularizes for sparsity, kicks out 2 as well because of 3 edges.)\n",
    "\n",
    "Let's try different parameters, different graphs, in hope of a pattern."
   ]
  },
  {
   "cell_type": "code",
   "execution_count": 194,
   "metadata": {},
   "outputs": [
    {
     "data": {
      "text/html": [
       "<div>\n",
       "<style scoped>\n",
       "    .dataframe tbody tr th:only-of-type {\n",
       "        vertical-align: middle;\n",
       "    }\n",
       "\n",
       "    .dataframe tbody tr th {\n",
       "        vertical-align: top;\n",
       "    }\n",
       "\n",
       "    .dataframe thead th {\n",
       "        text-align: right;\n",
       "    }\n",
       "</style>\n",
       "<table border=\"1\" class=\"dataframe\">\n",
       "  <thead>\n",
       "    <tr style=\"text-align: right;\">\n",
       "      <th></th>\n",
       "      <th>Model</th>\n",
       "      <th>Number of Edges</th>\n",
       "      <th>MSE(Model)</th>\n",
       "      <th>Var-Sort</th>\n",
       "    </tr>\n",
       "  </thead>\n",
       "  <tbody>\n",
       "    <tr>\n",
       "      <th>20</th>\n",
       "      <td>[(3, 2, 1), (3, 2)]</td>\n",
       "      <td>3</td>\n",
       "      <td>52.52</td>\n",
       "      <td>1.00</td>\n",
       "    </tr>\n",
       "    <tr>\n",
       "      <th>24</th>\n",
       "      <td>[(3, 2, 1), (2, 3)]</td>\n",
       "      <td>3</td>\n",
       "      <td>53.20</td>\n",
       "      <td>0.75</td>\n",
       "    </tr>\n",
       "    <tr>\n",
       "      <th>16</th>\n",
       "      <td>[(3, 2, 1)]</td>\n",
       "      <td>2</td>\n",
       "      <td>53.53</td>\n",
       "      <td>1.00</td>\n",
       "    </tr>\n",
       "    <tr>\n",
       "      <th>8</th>\n",
       "      <td>[(2, 1), (3, 2)]</td>\n",
       "      <td>2</td>\n",
       "      <td>68.62</td>\n",
       "      <td>1.00</td>\n",
       "    </tr>\n",
       "    <tr>\n",
       "      <th>23</th>\n",
       "      <td>[(1, 2, 3), (2, 1)]</td>\n",
       "      <td>3</td>\n",
       "      <td>69.13</td>\n",
       "      <td>0.25</td>\n",
       "    </tr>\n",
       "    <tr>\n",
       "      <th>10</th>\n",
       "      <td>[(2, 1), (2, 3)]</td>\n",
       "      <td>2</td>\n",
       "      <td>69.29</td>\n",
       "      <td>0.50</td>\n",
       "    </tr>\n",
       "    <tr>\n",
       "      <th>15</th>\n",
       "      <td>[(1, 3), (2, 1)]</td>\n",
       "      <td>2</td>\n",
       "      <td>69.63</td>\n",
       "      <td>0.33</td>\n",
       "    </tr>\n",
       "    <tr>\n",
       "      <th>5</th>\n",
       "      <td>[(2, 1)]</td>\n",
       "      <td>1</td>\n",
       "      <td>69.63</td>\n",
       "      <td>1.00</td>\n",
       "    </tr>\n",
       "    <tr>\n",
       "      <th>22</th>\n",
       "      <td>[(3, 1), (1, 3, 2)]</td>\n",
       "      <td>3</td>\n",
       "      <td>99.48</td>\n",
       "      <td>0.75</td>\n",
       "    </tr>\n",
       "    <tr>\n",
       "      <th>21</th>\n",
       "      <td>[(1, 3), (1, 3, 2)]</td>\n",
       "      <td>3</td>\n",
       "      <td>99.49</td>\n",
       "      <td>0.25</td>\n",
       "    </tr>\n",
       "    <tr>\n",
       "      <th>9</th>\n",
       "      <td>[(1, 3, 2)]</td>\n",
       "      <td>2</td>\n",
       "      <td>99.49</td>\n",
       "      <td>0.50</td>\n",
       "    </tr>\n",
       "    <tr>\n",
       "      <th>19</th>\n",
       "      <td>[(1, 2, 3), (1, 2)]</td>\n",
       "      <td>3</td>\n",
       "      <td>100.00</td>\n",
       "      <td>0.00</td>\n",
       "    </tr>\n",
       "    <tr>\n",
       "      <th>7</th>\n",
       "      <td>[(1, 2), (2, 3)]</td>\n",
       "      <td>2</td>\n",
       "      <td>100.16</td>\n",
       "      <td>0.00</td>\n",
       "    </tr>\n",
       "    <tr>\n",
       "      <th>18</th>\n",
       "      <td>[(3, 1), (3, 2)]</td>\n",
       "      <td>2</td>\n",
       "      <td>100.46</td>\n",
       "      <td>1.00</td>\n",
       "    </tr>\n",
       "    <tr>\n",
       "      <th>17</th>\n",
       "      <td>[(1, 3), (3, 2)]</td>\n",
       "      <td>2</td>\n",
       "      <td>100.46</td>\n",
       "      <td>0.33</td>\n",
       "    </tr>\n",
       "    <tr>\n",
       "      <th>6</th>\n",
       "      <td>[(3, 2)]</td>\n",
       "      <td>1</td>\n",
       "      <td>100.46</td>\n",
       "      <td>1.00</td>\n",
       "    </tr>\n",
       "    <tr>\n",
       "      <th>12</th>\n",
       "      <td>[(3, 1), (1, 2)]</td>\n",
       "      <td>2</td>\n",
       "      <td>100.49</td>\n",
       "      <td>0.67</td>\n",
       "    </tr>\n",
       "    <tr>\n",
       "      <th>11</th>\n",
       "      <td>[(1, 3), (1, 2)]</td>\n",
       "      <td>2</td>\n",
       "      <td>100.49</td>\n",
       "      <td>0.00</td>\n",
       "    </tr>\n",
       "    <tr>\n",
       "      <th>1</th>\n",
       "      <td>[(1, 2)]</td>\n",
       "      <td>1</td>\n",
       "      <td>100.49</td>\n",
       "      <td>0.00</td>\n",
       "    </tr>\n",
       "    <tr>\n",
       "      <th>13</th>\n",
       "      <td>[(1, 2, 3)]</td>\n",
       "      <td>2</td>\n",
       "      <td>100.97</td>\n",
       "      <td>0.00</td>\n",
       "    </tr>\n",
       "    <tr>\n",
       "      <th>14</th>\n",
       "      <td>[(3, 1), (2, 3)]</td>\n",
       "      <td>2</td>\n",
       "      <td>101.13</td>\n",
       "      <td>0.67</td>\n",
       "    </tr>\n",
       "    <tr>\n",
       "      <th>2</th>\n",
       "      <td>[(2, 3)]</td>\n",
       "      <td>1</td>\n",
       "      <td>101.13</td>\n",
       "      <td>0.00</td>\n",
       "    </tr>\n",
       "    <tr>\n",
       "      <th>4</th>\n",
       "      <td>[(3, 1)]</td>\n",
       "      <td>1</td>\n",
       "      <td>101.46</td>\n",
       "      <td>1.00</td>\n",
       "    </tr>\n",
       "    <tr>\n",
       "      <th>3</th>\n",
       "      <td>[(1, 3)]</td>\n",
       "      <td>1</td>\n",
       "      <td>101.46</td>\n",
       "      <td>0.00</td>\n",
       "    </tr>\n",
       "    <tr>\n",
       "      <th>0</th>\n",
       "      <td>[]</td>\n",
       "      <td>0</td>\n",
       "      <td>101.46</td>\n",
       "      <td>0.00</td>\n",
       "    </tr>\n",
       "  </tbody>\n",
       "</table>\n",
       "</div>"
      ],
      "text/plain": [
       "                  Model  Number of Edges  MSE(Model)  Var-Sort\n",
       "20  [(3, 2, 1), (3, 2)]                3       52.52      1.00\n",
       "24  [(3, 2, 1), (2, 3)]                3       53.20      0.75\n",
       "16          [(3, 2, 1)]                2       53.53      1.00\n",
       "8      [(2, 1), (3, 2)]                2       68.62      1.00\n",
       "23  [(1, 2, 3), (2, 1)]                3       69.13      0.25\n",
       "10     [(2, 1), (2, 3)]                2       69.29      0.50\n",
       "15     [(1, 3), (2, 1)]                2       69.63      0.33\n",
       "5              [(2, 1)]                1       69.63      1.00\n",
       "22  [(3, 1), (1, 3, 2)]                3       99.48      0.75\n",
       "21  [(1, 3), (1, 3, 2)]                3       99.49      0.25\n",
       "9           [(1, 3, 2)]                2       99.49      0.50\n",
       "19  [(1, 2, 3), (1, 2)]                3      100.00      0.00\n",
       "7      [(1, 2), (2, 3)]                2      100.16      0.00\n",
       "18     [(3, 1), (3, 2)]                2      100.46      1.00\n",
       "17     [(1, 3), (3, 2)]                2      100.46      0.33\n",
       "6              [(3, 2)]                1      100.46      1.00\n",
       "12     [(3, 1), (1, 2)]                2      100.49      0.67\n",
       "11     [(1, 3), (1, 2)]                2      100.49      0.00\n",
       "1              [(1, 2)]                1      100.49      0.00\n",
       "13          [(1, 2, 3)]                2      100.97      0.00\n",
       "14     [(3, 1), (2, 3)]                2      101.13      0.67\n",
       "2              [(2, 3)]                1      101.13      0.00\n",
       "4              [(3, 1)]                1      101.46      1.00\n",
       "3              [(1, 3)]                1      101.46      0.00\n",
       "0                    []                0      101.46      0.00"
      ]
     },
     "execution_count": 194,
     "metadata": {},
     "output_type": "execute_result"
    }
   ],
   "source": [
    "a1 = 1\n",
    "a2 = 1\n",
    "\n",
    "N1 = np.random.normal(0, 1, 10000)\n",
    "N2 = np.random.normal(0, 1, 10000)\n",
    "N3 = np.random.normal(0, 1, 10000)\n",
    "\n",
    "#X1 = N1\n",
    "#X2 = a1*X1 + N2\n",
    "#X3 = a2*X2 + N3\n",
    "X1 = N1\n",
    "X3 = N3\n",
    "X2 = a1*X1 + a2*X3 + N2\n",
    "\n",
    "X1 = X1.reshape(-1,1)\n",
    "X2 = X2.reshape(-1,1)\n",
    "X3 = X3.reshape(-1,1)\n",
    "\n",
    "v = np.hstack([X1,X2,X3])\n",
    "v[:,0] *= 10\n",
    "models_scored = []\n",
    "model_1, model_2 = None, None\n",
    "for i in range(3+1):\n",
    "    for m in models[str(i)]:\n",
    "        lrs_m = lin_model(m, v)\n",
    "        mse_m = mse_model(m, lrs_m, v)\n",
    "        if m == [(1,3,2)]:\n",
    "            model_1 = lrs_m\n",
    "        if m == [(3,2,1),(3,2)]:\n",
    "            model_2 = lrs_m\n",
    "        #print(f'Model ({i} edges): {str(m)}\\t\\t MSE(M)={mse_m:.2f}')\n",
    "        models_scored.append((m, i, mse_m))\n",
    "df = pd.DataFrame(models_scored, columns=[\"Model\", \"Number of Edges\", \"MSE(Model)\"])\n",
    "vs = []\n",
    "for i in range(3+1):\n",
    "    for m in models[str(i)]:\n",
    "        vs.append(varsort(model_to_adj(m), v))\n",
    "df['Var-Sort'] = vs\n",
    "df.sort_values(['MSE(Model)'], ascending=[True]).round(2)"
   ]
  },
  {
   "cell_type": "code",
   "execution_count": 195,
   "metadata": {},
   "outputs": [],
   "source": [
    "w1, w2 = model_1[0][0].coef_\n",
    "w2_hat = model_2[1][0].coef_[0]\n",
    "w1_hat, w3 = model_2[0][0].coef_"
   ]
  },
  {
   "cell_type": "code",
   "execution_count": 196,
   "metadata": {},
   "outputs": [
    {
     "name": "stdout",
     "output_type": "stream",
     "text": [
      "w_2^2*Var(X1) + 2w_1w_2*Cov(X1, X3) = -1.978309580796653 < 144.16976397281027 = w_2^2*Var(X2) + w_3^2*Var(X3) + 2w_1w_2*Cov(X2, X3) - 2w_3*Cov(X1, X3)\n"
     ]
    }
   ],
   "source": [
    "cov_1_3 = np.cov(v[:, 0], v[:, 2])[0, 1]\n",
    "cov_2_3 = np.cov(v[:, 1], v[:, 2])[0, 1]\n",
    "cov_1_2 = np.cov(v[:, 0], v[:, 1])[0, 1]\n",
    "var_x1 = v[:, 0].var()\n",
    "var_x2 = v[:, 1].var()\n",
    "var_x3 = v[:, 2].var()\n",
    "lhs = w1**2 * var_x1 + w2**2 * var_x3 + 2*w1*w2*cov_1_3 - 2*w1*cov_1_2 - 2*w2*cov_2_3\n",
    "rhs = w2_hat**2*var_x3 -2*w2_hat*cov_2_3 + w1_hat**2*var_x2 + w3**2*var_x3 + 2*w1_hat*w3*cov_2_3 - 2*w1_hat*cov_1_2 - 2*w3*cov_1_3\n",
    "print(f\"w_2^2*Var(X1) + 2w_1w_2*Cov(X1, X3) = {lhs} < {rhs} = w_2^2*Var(X2) + w_3^2*Var(X3) + 2w_1w_2*Cov(X2, X3) - 2w_3*Cov(X1, X3)\")"
   ]
  },
  {
   "cell_type": "markdown",
   "metadata": {},
   "source": [
    "06.05.22, Experiment\n",
    "\n",
    "Given a chain, it suffices to change the variance ordering of first-last node pair only, to have a lower MSE in the changed one (i.e., NT can still choose to do collider since that is the exact varsortation, but MSE of attacked will be lower of truth as well)."
   ]
  },
  {
   "cell_type": "code",
   "execution_count": 83,
   "metadata": {},
   "outputs": [
    {
     "name": "stdout",
     "output_type": "stream",
     "text": [
      "X1.shape (10000, 1), X2.shape (10000, 1), X3.shape (10000, 1)\n",
      "Var(X1)  = 1.00 = V_1 = 1.00\n",
      "Var(X2) = 1.99 and V_2 = 1.00\n",
      "Var(X3) = 2.98 and V_3 = 0.99\n",
      "              Model  MSE(Model)\n",
      "0  [(1, 2), (2, 3)]    2.988193\n",
      "1  [(3, 2), (2, 1)]    4.143841\n",
      "2  [(1, 2), (3, 2)]    5.640829\n",
      "\n",
      "\n",
      " After Attack:\n",
      "Var(X1)  = 15.96 = V_1 = 1.00\n",
      "Var(X2) = 1.99 and V_2 = 1.00\n",
      "Var(X3) = 2.98 and V_3 = 0.99\n",
      "              Model  MSE(Model)\n",
      "0  [(1, 2), (2, 3)]   17.959242\n",
      "1  [(3, 2), (2, 1)]   11.662533\n",
      "2  [(1, 2), (3, 2)]   20.611878\n"
     ]
    }
   ],
   "source": [
    "a1 = 1\n",
    "a2 = 1\n",
    "\n",
    "N1 = np.random.normal(0, 1, 10000)\n",
    "N2 = np.random.normal(0, 1, 10000)\n",
    "N3 = np.random.normal(0, 1, 10000)\n",
    "\n",
    "X1 = N1\n",
    "X2 = a1*X1 + N2\n",
    "X3 = a2*X2 + N3\n",
    "\n",
    "X1 = X1.reshape(-1,1)\n",
    "X2 = X2.reshape(-1,1)\n",
    "X3 = X3.reshape(-1,1)\n",
    "\n",
    "v = np.hstack([X1,X2,X3])\n",
    "\n",
    "print(f'X1.shape {X1.shape}, X2.shape {X2.shape}, X3.shape {X3.shape}')\n",
    "print(f'Var(X1)  = {v[:,0].var():.2f} = V_1 = {N1.var():.2f}')\n",
    "print(f'Var(X2) = {v[:,1].var():.2f} and V_2 = {N2.var():.2f}')\n",
    "print(f'Var(X3) = {v[:,2].var():.2f} and V_3 = {N3.var():.2f}')\n",
    "\n",
    "models_scored = []\n",
    "models = [[(1,2),(2,3)],[(3,2),(2,1)],[(1,2),(3,2)]]\n",
    "for m in models:\n",
    "    lrs_m = lin_model(m, v)\n",
    "    mse_m = mse_model(m, lrs_m, v)\n",
    "    models_scored.append((m, mse_m))\n",
    "df = pd.DataFrame(models_scored, columns=[\"Model\", \"MSE(Model)\"])\n",
    "print(df)\n",
    "\n",
    "# now perform scaling (attack)\n",
    "models_scored = []\n",
    "v[:,0] = 4*v[:,0]\n",
    "print(\"\\n\\n After Attack:\")\n",
    "print(f'Var(X1)  = {v[:,0].var():.2f} = V_1 = {N1.var():.2f}')\n",
    "print(f'Var(X2) = {v[:,1].var():.2f} and V_2 = {N2.var():.2f}')\n",
    "print(f'Var(X3) = {v[:,2].var():.2f} and V_3 = {N3.var():.2f}')\n",
    "for m in models:\n",
    "    lrs_m = lin_model(m, v)\n",
    "    mse_m = mse_model(m, lrs_m, v)\n",
    "    models_scored.append((m, mse_m))\n",
    "df = pd.DataFrame(models_scored, columns=[\"Model\", \"MSE(Model)\"])\n",
    "print(df)"
   ]
  },
  {
   "cell_type": "code",
   "execution_count": null,
   "metadata": {},
   "outputs": [],
   "source": []
  },
  {
   "cell_type": "markdown",
   "metadata": {},
   "source": [
    "### Regular 2-node Case $A\\rightarrow B$ or $A\\leftarrow B$\n",
    "\n",
    "This is the regular setting from Reisach et al.\n",
    "It is important to note that $MSE(M)$ is for some model $M$ and refers to the sum of all residuals.\n",
    "I.e., $MSE(X) = \\sum_i (Y-aX)^2 = Var(Y-aX)$ whereas $MSE(M) = \\sum_i MSE(X_i)$ with $MSE(X)=0$ if $X$ is not predicted."
   ]
  },
  {
   "cell_type": "code",
   "execution_count": 81,
   "metadata": {},
   "outputs": [],
   "source": [
    "from sklearn.linear_model import LinearRegression, Lasso\n",
    "from sklearn.metrics import mean_squared_error\n",
    "import numpy as np"
   ]
  },
  {
   "cell_type": "code",
   "execution_count": 138,
   "metadata": {},
   "outputs": [],
   "source": [
    "np.random.seed(0)\n",
    "w = 0.5\n",
    "NX = np.random.normal(0, 1, 10000)\n",
    "NY = np.random.normal(0, 1, 10000)\n",
    "X = NX\n",
    "Y = w*X + NY\n",
    "X = X.reshape(-1, 1)\n",
    "Y = Y.reshape(-1, 1)"
   ]
  },
  {
   "cell_type": "code",
   "execution_count": 139,
   "metadata": {},
   "outputs": [
    {
     "name": "stdout",
     "output_type": "stream",
     "text": [
      "Var(X) = V_X = 1.18\n",
      "Var(Y) = 1.22 and V_Y = 0.99\n"
     ]
    }
   ],
   "source": [
    "print(f'Var(X) = V_X = {X.var():.2f}')\n",
    "print(f'Var(Y) = {Y.var():.2f} and V_Y = {NY.var():.2f}')"
   ]
  },
  {
   "cell_type": "code",
   "execution_count": 140,
   "metadata": {},
   "outputs": [],
   "source": [
    "lr = LinearRegression(fit_intercept=False)\n",
    "lr.fit(X, Y)\n",
    "pred_x_y = lr.predict(X)"
   ]
  },
  {
   "cell_type": "code",
   "execution_count": 141,
   "metadata": {},
   "outputs": [],
   "source": [
    "mse_x_y = mean_squared_error(Y, pred_x_y)"
   ]
  },
  {
   "cell_type": "code",
   "execution_count": 142,
   "metadata": {},
   "outputs": [
    {
     "data": {
      "image/png": "[encoded data removed]",
      "text/plain": [
       "<Figure size 432x288 with 1 Axes>"
      ]
     },
     "metadata": {
      "needs_background": "light"
     },
     "output_type": "display_data"
    }
   ],
   "source": [
    "import matplotlib.pyplot as plt\n",
    "plt.scatter(X,Y)\n",
    "plt.plot(X,pred_x_y,c=\"orange\")\n",
    "plt.title(f'MSE: {mse_x_y:.2f}, w*: {w:.2f}, w^: {lr.coef_[0][0]:.2f}')\n",
    "plt.show()"
   ]
  },
  {
   "cell_type": "code",
   "execution_count": 143,
   "metadata": {},
   "outputs": [],
   "source": [
    "lr2 = LinearRegression(fit_intercept=False)\n",
    "lr2.fit(Y, X)\n",
    "pred_y_x = lr2.predict(Y)"
   ]
  },
  {
   "cell_type": "code",
   "execution_count": 144,
   "metadata": {},
   "outputs": [],
   "source": [
    "mse_y_x = mean_squared_error(X, pred_y_x)"
   ]
  },
  {
   "cell_type": "code",
   "execution_count": 145,
   "metadata": {},
   "outputs": [
    {
     "data": {
      "image/png": "[encoded data removed]",
      "text/plain": [
       "<Figure size 432x288 with 1 Axes>"
      ]
     },
     "metadata": {
      "needs_background": "light"
     },
     "output_type": "display_data"
    }
   ],
   "source": [
    "plt.scatter(Y,X)\n",
    "plt.plot(Y,pred_y_x,c=\"magenta\")\n",
    "plt.title(f'MSE: {mse_y_x:.2f}, w*: {w:.2f}, v^: {lr2.coef_[0][0]:.2f}')\n",
    "plt.show()"
   ]
  },
  {
   "cell_type": "code",
   "execution_count": 146,
   "metadata": {},
   "outputs": [
    {
     "name": "stdout",
     "output_type": "stream",
     "text": [
      "[[1.18019227 0.52807974]\n",
      " [0.52807974 1.22248734]]\n",
      "w^ = 0.45 approx cov(X,Y)/var(X) = 0.45\n",
      "v^ = 0.43 approx cov(X,Y)/var(Y) = 0.43\n"
     ]
    }
   ],
   "source": [
    "cov_XY = np.cov(np.hstack((X, Y)).T)\n",
    "print(cov_XY) # cov(X,X) = var(X) and cov(Y,Y) = var(Y) and cov(X,Y) = cov(Y,X))\n",
    "print(f'w^ = {lr.coef_[0][0]:.2f} approx cov(X,Y)/var(X) = {cov_XY[0,1]/cov_XY[0,0]:.2f}\\n'\n",
    "     f'v^ = {lr2.coef_[0][0]:.2f} approx cov(X,Y)/var(Y) = {cov_XY[0,1]/cov_XY[1,1]:.2f}')"
   ]
  },
  {
   "cell_type": "markdown",
   "metadata": {},
   "source": [
    "Here we simply assert that the coefficients that we learned match the analytical derivation."
   ]
  },
  {
   "cell_type": "code",
   "execution_count": 147,
   "metadata": {},
   "outputs": [
    {
     "name": "stdout",
     "output_type": "stream",
     "text": [
      "True\n",
      "True\n"
     ]
    }
   ],
   "source": [
    "print(np.allclose(pred_x_y, lr.coef_[0][0]*X))\n",
    "print(np.allclose(pred_y_x, lr2.coef_[0][0]*Y))"
   ]
  },
  {
   "cell_type": "markdown",
   "metadata": {},
   "source": [
    "If we only consider the MSE of $y$, the equivalence relation does not hold necessarily:"
   ]
  },
  {
   "cell_type": "code",
   "execution_count": 148,
   "metadata": {},
   "outputs": [
    {
     "name": "stdout",
     "output_type": "stream",
     "text": [
      "MSE = 0.99 < 0.95 = MSE <==> [Var(X) 1.18 + Var(Y-w^X) 0.99] = 2.17 < 2.17 = [Var(Y) 1.22 + Var(X-v^Y) 0.95]\n",
      "\n"
     ]
    }
   ],
   "source": [
    "print(f'MSE = {mse_x_y:.2f} < {mse_y_x:.2f} = MSE '\n",
    "      '<==>'\n",
    "      f' [Var(X) {cov_XY[0,0]:.2f} + Var(Y-w^X) {np.var(Y-pred_x_y):.2f}] = {cov_XY[0,0]+np.var(Y-pred_x_y):.2f} '\n",
    "     f'< {cov_XY[1,1]+np.var(X-pred_y_x):.2f} = [Var(Y) {cov_XY[1,1]:.2f} + Var(X-v^Y) {np.var(X-pred_y_x):.2f}]\\n')"
   ]
  },
  {
   "cell_type": "markdown",
   "metadata": {},
   "source": [
    "Indeed, if we have the proper $MSE(M)$ which adds to $V(B-wA)$ the term $V(A)$ (since $A$ is not predicted), then the inequality holds and $MSE$ infers the right model."
   ]
  },
  {
   "cell_type": "code",
   "execution_count": 149,
   "metadata": {},
   "outputs": [
    {
     "name": "stdout",
     "output_type": "stream",
     "text": [
      "MSE(M1) = 2.17 < 2.17 = MSE(M2) <==> [Var(X) 1.18 + Var(Y-w^X) 0.99] = 2.17 < 2.17 = [Var(Y) 1.22 + Var(X-v^Y) 0.95]\n",
      "\n"
     ]
    }
   ],
   "source": [
    "print(f'MSE(M1) = {mse_x_y + mean_squared_error(np.zeros_like(X), X):.2f} < {mse_y_x + mean_squared_error(np.zeros_like(Y), Y):.2f} = MSE(M2) '\n",
    "      '<==>'\n",
    "      f' [Var(X) {cov_XY[0,0]:.2f} + Var(Y-w^X) {np.var(Y-pred_x_y):.2f}] = {cov_XY[0,0]+np.var(Y-pred_x_y):.2f} '\n",
    "     f'< {cov_XY[1,1]+np.var(X-pred_y_x):.2f} = [Var(Y) {cov_XY[1,1]:.2f} + Var(X-v^Y) {np.var(X-pred_y_x):.2f}]\\n')"
   ]
  },
  {
   "cell_type": "code",
   "execution_count": null,
   "metadata": {},
   "outputs": [],
   "source": []
  }
 ],
 "metadata": {
  "interpreter": {
   "hash": "fee2154a520057aba9582f4676fb1abe67f001c6ddbbcd2e74f2a5bad9d5b013"
  },
  "kernelspec": {
   "display_name": "varsortability",
   "language": "python",
   "name": "varsortability"
  },
  "language_info": {
   "codemirror_mode": {
    "name": "ipython",
    "version": 3
   },
   "file_extension": ".py",
   "mimetype": "text/x-python",
   "name": "python",
   "nbconvert_exporter": "python",
   "pygments_lexer": "ipython3",
   "version": "3.9.7"
  }
 },
 "nbformat": 4,
 "nbformat_minor": 1
}
